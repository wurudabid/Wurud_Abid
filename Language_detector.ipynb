{
  "nbformat": 4,
  "nbformat_minor": 0,
  "metadata": {
    "colab": {
      "provenance": []
    },
    "kernelspec": {
      "name": "python3",
      "display_name": "Python 3"
    },
    "language_info": {
      "name": "python"
    }
  },
  "cells": [
    {
      "cell_type": "markdown",
      "source": [
        "# Libraries"
      ],
      "metadata": {
        "id": "ZaxiaagXgp6x"
      }
    },
    {
      "cell_type": "code",
      "source": [
        "import numpy as np\n",
        "import pandas as pd\n",
        "import matplotlib.pyplot as plt\n",
        "from sklearn.model_selection import train_test_split\n",
        "from sklearn.model_selection import cross_val_score\n",
        "from sklearn.model_selection import cross_val_predict\n",
        "from sklearn.naive_bayes import MultinomialNB\n",
        "from sklearn.feature_extraction.text import CountVectorizer\n",
        "from sklearn.tree import DecisionTreeClassifier\n",
        "from sklearn.ensemble import GradientBoostingClassifier\n",
        "from sklearn.ensemble import RandomForestClassifier\n",
        "from sklearn import svm\n",
        "from sklearn.metrics import accuracy_score\n",
        "from sklearn.metrics import mean_squared_error\n",
        "from sklearn.metrics import confusion_matrix\n",
        "#from sklearn.metrics import plot_confusion_matrix"
      ],
      "metadata": {
        "id": "shfQHG1Wgpn6"
      },
      "execution_count": null,
      "outputs": []
    },
    {
      "cell_type": "markdown",
      "source": [
        "# Getting the Dataset"
      ],
      "metadata": {
        "id": "mz3jItYKhQ_e"
      }
    },
    {
      "cell_type": "code",
      "execution_count": null,
      "metadata": {
        "id": "wklQVpeEgjbt",
        "colab": {
          "base_uri": "https://localhost:8080/"
        },
        "outputId": "4b600286-b98d-4b2a-a962-edfdf847d609"
      },
      "outputs": [
        {
          "output_type": "stream",
          "name": "stdout",
          "text": [
            "<bound method NDFrame.head of                                                     Text  language\n",
            "0      klement gottwaldi surnukeha palsameeriti ning ...  Estonian\n",
            "1      sebes joseph pereira thomas  på eng the jesuit...   Swedish\n",
            "2      ถนนเจริญกรุง อักษรโรมัน thanon charoen krung เ...      Thai\n",
            "3      விசாகப்பட்டினம் தமிழ்ச்சங்கத்தை இந்துப் பத்திர...     Tamil\n",
            "4      de spons behoort tot het geslacht haliclona en...     Dutch\n",
            "...                                                  ...       ...\n",
            "21995  hors du terrain les années  et  sont des année...    French\n",
            "21996  ใน พศ  หลักจากที่เสด็จประพาสแหลมมลายู ชวา อินเ...      Thai\n",
            "21997  con motivo de la celebración del septuagésimoq...   Spanish\n",
            "21998  年月，當時還只有歲的她在美國出道，以mai-k名義推出首張英文《baby i like》，由...   Chinese\n",
            "21999   aprilie sonda spațială messenger a nasa și-a ...  Romanian\n",
            "\n",
            "[22000 rows x 2 columns]>\n"
          ]
        }
      ],
      "source": [
        "data = pd.read_csv(\"https://raw.githubusercontent.com/amankharwal/Website-data/master/dataset.csv\")\n",
        "print(data.head)"
      ]
    },
    {
      "cell_type": "markdown",
      "source": [
        "# Prepare the Data for ML Algorithms"
      ],
      "metadata": {
        "id": "cTBxK23DhbRD"
      }
    },
    {
      "cell_type": "code",
      "source": [
        "data[\"language\"].value_counts()\n",
        "\n",
        "#detecting missing features\n",
        "data.isnull().sum()\n",
        "\n",
        "#Analyse fetures and labels\n",
        "print(data.keys())"
      ],
      "metadata": {
        "id": "BV6PwQBkhmxH",
        "colab": {
          "base_uri": "https://localhost:8080/"
        },
        "outputId": "2d71dc36-887a-44ea-c5c0-d203c5499984"
      },
      "execution_count": null,
      "outputs": [
        {
          "output_type": "stream",
          "name": "stdout",
          "text": [
            "Index(['Text', 'language'], dtype='object')\n"
          ]
        }
      ]
    },
    {
      "cell_type": "markdown",
      "source": [
        "separate features from labales"
      ],
      "metadata": {
        "id": "LX1mMMWKh9zL"
      }
    },
    {
      "cell_type": "code",
      "source": [
        "x = np.array(data['Text'])\n",
        "Y = np.array(data['language'])\n",
        "\n",
        "#victoraizing the Data\n",
        "cv = CountVectorizer()\n",
        "X = cv.fit_transform(x)"
      ],
      "metadata": {
        "id": "A9ay45dmiGHd"
      },
      "execution_count": null,
      "outputs": []
    },
    {
      "cell_type": "markdown",
      "source": [
        "# Split the Data"
      ],
      "metadata": {
        "id": "pJBvH9tpiTzD"
      }
    },
    {
      "cell_type": "code",
      "source": [
        "X_train, X_test, Y_train, Y_test = train_test_split(X, Y,test_size=0.30,random_state=42)"
      ],
      "metadata": {
        "id": "uAJ0w7HEkKXM"
      },
      "execution_count": null,
      "outputs": []
    },
    {
      "cell_type": "markdown",
      "source": [
        "# Train the Data Using multiple models"
      ],
      "metadata": {
        "id": "XB61fdKZkoo4"
      }
    },
    {
      "cell_type": "markdown",
      "source": [
        "Decision Tree Classifier"
      ],
      "metadata": {
        "id": "qyrs9yhemTEN"
      }
    },
    {
      "cell_type": "markdown",
      "source": [
        "\n",
        "\n",
        "```\n",
        "# tree = DecisionTreeClassifier()\n",
        "tree.fit(X_train,Y_train)\n",
        "\n",
        "#prediction\n",
        "pr_tree = tree.predict(X_test)\n",
        "\n",
        "#accuracy\n",
        "acc_tree = accuracy_score(pr_tree,Y_test)\n",
        "print(\"accuracy = \")\n",
        "acc_tree\n",
        "\n",
        "#accuracy =\n",
        "#0.8960606060606061\n",
        "```\n",
        "\n"
      ],
      "metadata": {
        "id": "WNuTuQGzlpa6"
      }
    },
    {
      "cell_type": "markdown",
      "source": [
        "Random Forest Classifier"
      ],
      "metadata": {
        "id": "EZungnvNmQbN"
      }
    },
    {
      "cell_type": "markdown",
      "source": [
        "\n",
        "\n",
        "```\n",
        "# from threading import active_count\n",
        "forest = RandomForestClassifier()\n",
        "forest.fit(X_train,Y_train)\n",
        "\n",
        "#prediction\n",
        "pr_forest = forest.predict(X_test)\n",
        "\n",
        "#accuracy\n",
        "acc_forast = accuracy_score(pr_forest,Y_test)\n",
        "print(\"accuracy = \")\n",
        "acc_forast\n",
        "\n",
        "#accuracy =\n",
        "#0.9215151515151515\n",
        "```\n",
        "\n"
      ],
      "metadata": {
        "id": "dlol-QhulvWT"
      }
    },
    {
      "cell_type": "markdown",
      "source": [
        "Support Vector Machines"
      ],
      "metadata": {
        "id": "yMxDESXQmMRF"
      }
    },
    {
      "cell_type": "markdown",
      "source": [
        "\n",
        "\n",
        "```\n",
        "#svm = svm.SVC(C=1.0, kernel='linear', degree=3, gamma='auto')\n",
        "svm.fit(X_train,Y_train)\n",
        "\n",
        "#predicction\n",
        "pr_svm = svm.predict(X_test)\n",
        "\n",
        "#accuracy\n",
        "acc_svm = accuracy_score(pr_svm,Y_test)\n",
        "print(\"accuracy = \")\n",
        "acc_svm\n",
        "\n",
        "#accuracy =\n",
        "#0.9351515151515152\n",
        "\n",
        "```\n",
        "\n"
      ],
      "metadata": {
        "id": "PL4g67dxl6u2"
      }
    },
    {
      "cell_type": "markdown",
      "source": [
        "Multinomial Naïve Bayes"
      ],
      "metadata": {
        "id": "Qe03PnEqmGpy"
      }
    },
    {
      "cell_type": "code",
      "source": [
        "multinomial = MultinomialNB()\n",
        "multinomial.fit(X_train,Y_train)\n",
        "\n",
        "#predict\n",
        "mpr = multinomial.predict(X_test)\n",
        "\n",
        "#accuracy\n",
        "acc_mult = accuracy_score(mpr,Y_test)\n",
        "print(\"accuracy = \")\n",
        "acc_mult"
      ],
      "metadata": {
        "id": "HUnm4aj1lO4_",
        "colab": {
          "base_uri": "https://localhost:8080/"
        },
        "outputId": "74411b99-0ce0-4e34-bdd8-470f8b0cc891"
      },
      "execution_count": null,
      "outputs": [
        {
          "output_type": "stream",
          "name": "stdout",
          "text": [
            "accuracy = \n"
          ]
        },
        {
          "output_type": "execute_result",
          "data": {
            "text/plain": [
              "0.9528787878787879"
            ]
          },
          "metadata": {},
          "execution_count": 6
        }
      ]
    },
    {
      "cell_type": "markdown",
      "source": [
        "# Error analysis"
      ],
      "metadata": {
        "id": "SiboOauImeK5"
      }
    },
    {
      "cell_type": "code",
      "source": [
        "train_pred = cross_val_predict(multinomial,X_train,Y_train, cv=3)\n",
        "conf_mx = confusion_matrix(Y_train,train_pred)"
      ],
      "metadata": {
        "id": "G-rouay_lEGM"
      },
      "execution_count": null,
      "outputs": []
    },
    {
      "cell_type": "code",
      "source": [
        "from sklearn.metrics import plot_confusion_matrix\n",
        "plot_confusion_matrix(multinomial,X_test,Y_test)\n",
        "plt.show()"
      ],
      "metadata": {
        "id": "01bxgL18k0jT"
      },
      "execution_count": null,
      "outputs": []
    },
    {
      "cell_type": "markdown",
      "source": [
        "# Test the Data"
      ],
      "metadata": {
        "id": "ac9I51Bymva0"
      }
    },
    {
      "cell_type": "code",
      "source": [
        "text = input(\"Enter a Text: \")\n",
        "data = cv.transform([text]).toarray()\n",
        "output = multinomial.predict(data)\n",
        "print(output)"
      ],
      "metadata": {
        "id": "rcJGrFpTkzKV",
        "colab": {
          "base_uri": "https://localhost:8080/"
        },
        "outputId": "24bda24c-5cfa-4740-d046-b69eb8568f86"
      },
      "execution_count": null,
      "outputs": [
        {
          "output_type": "stream",
          "name": "stdout",
          "text": [
            "Enter a Text: مرحبه\n",
            "['French']\n"
          ]
        }
      ]
    }
  ]
}